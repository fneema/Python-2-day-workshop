{
 "cells": [
  {
   "cell_type": "markdown",
   "metadata": {
    "colab_type": "text",
    "id": "APTmxes6rkjl"
   },
   "source": [
    "<img src=\"https://raw.githubusercontent.com/WPSYG/Python-2-day-workshop/master/images/logo_color_v1.jpeg?token=AIW35UAKBBELC5SYDUECSYC7HQ4FW\">"
   ]
  },
  {
   "cell_type": "markdown",
   "metadata": {
    "colab_type": "text",
    "id": "zEUs9ZqL2YwY"
   },
   "source": [
    "# Python Arithmetic Operations\n",
    "This section would focus on introducing you to simple arithmetic operations using python. You would use python to perform operations such as addition, substraction, multiplication and division."
   ]
  },
  {
   "cell_type": "markdown",
   "metadata": {},
   "source": [
    "<img src=\"https://raw.githubusercontent.com/WPSYG/Python-2-day-workshop/master/images/Arithmetic.png?token=AIW35UBQXZTNMD4GC662SPS7HQ4KY\">\n",
    "\n",
    "[Source](https://www.programiz.com/python-programming/operators)"
   ]
  },
  {
   "cell_type": "markdown",
   "metadata": {
    "colab_type": "text",
    "id": "8QytlG-muIpS"
   },
   "source": [
    "**Examples : Arithmetic operators in Python**\n"
   ]
  },
  {
   "cell_type": "code",
   "execution_count": 1,
   "metadata": {
    "colab": {},
    "colab_type": "code",
    "id": "BccLYrIxuFWY"
   },
   "outputs": [
    {
     "name": "stdout",
     "output_type": "stream",
     "text": [
      "x+y =  10\n"
     ]
    }
   ],
   "source": [
    "# Addition (+)\n",
    "x = 4\n",
    "y = 6\n",
    "\n",
    "z = x+y\n",
    "\n",
    "print('x+y = ', z)"
   ]
  },
  {
   "cell_type": "markdown",
   "metadata": {},
   "source": [
    "- **x, y** are called **variables** and they store objects such as numbers and strings\n",
    "- The **print** function displays the answer in the format specified. More on it later.\n",
    "- The **equals operator \"=\"** is used to assign the values to the variable. There is a comparison operator \"==\" similar to this which you will meet later."
   ]
  },
  {
   "cell_type": "code",
   "execution_count": 12,
   "metadata": {
    "colab": {},
    "colab_type": "code",
    "id": "GwQexzawuF6G"
   },
   "outputs": [
    {
     "name": "stdout",
     "output_type": "stream",
     "text": [
      "x-y =  5.5\n"
     ]
    }
   ],
   "source": [
    "# Subtraction (-)\n",
    "x = 10.5\n",
    "y = 5\n",
    "\n",
    "z = x-y\n",
    "\n",
    "print('x-y = ', z)"
   ]
  },
  {
   "cell_type": "code",
   "execution_count": 3,
   "metadata": {
    "colab": {},
    "colab_type": "code",
    "id": "2B6FEE9IuF3o"
   },
   "outputs": [
    {
     "name": "stdout",
     "output_type": "stream",
     "text": [
      "x*y =  18\n"
     ]
    }
   ],
   "source": [
    "# Multiplication (*)\n",
    "x = 2\n",
    "y = 9\n",
    "\n",
    "z = x*y\n",
    "\n",
    "print('x*y = ', z)"
   ]
  },
  {
   "cell_type": "code",
   "execution_count": 4,
   "metadata": {
    "colab": {},
    "colab_type": "code",
    "id": "fzGTbD35uF1W"
   },
   "outputs": [
    {
     "name": "stdout",
     "output_type": "stream",
     "text": [
      "x/y =  1.75\n",
      "a/b =  5.0\n"
     ]
    }
   ],
   "source": [
    "# Division (/)\n",
    "x = 7\n",
    "y = 4\n",
    "\n",
    "z = x/y\n",
    "\n",
    "a = 20\n",
    "b = 4\n",
    "\n",
    "c = a/b\n",
    "\n",
    "print('x/y = ', z)\n",
    "print('a/b = ', c)"
   ]
  },
  {
   "cell_type": "code",
   "execution_count": 5,
   "metadata": {
    "colab": {},
    "colab_type": "code",
    "id": "xfT6FHlGuFyp"
   },
   "outputs": [
    {
     "name": "stdout",
     "output_type": "stream",
     "text": [
      "x%y =  1\n"
     ]
    }
   ],
   "source": [
    "# Modulo (%)\n",
    "x = 5\n",
    "y = 4\n",
    "\n",
    "z = x%y\n",
    "\n",
    "print('x%y = ', z)"
   ]
  },
  {
   "cell_type": "code",
   "execution_count": 11,
   "metadata": {
    "colab": {},
    "colab_type": "code",
    "id": "LwCXs1bnuffr"
   },
   "outputs": [
    {
     "name": "stdout",
     "output_type": "stream",
     "text": [
      "x//y =  1\n",
      "a//b =  5\n"
     ]
    }
   ],
   "source": [
    "# Floor division or Integer Division (//)\n",
    "\n",
    "x = 7\n",
    "y = 4\n",
    "\n",
    "z = x//y\n",
    "\n",
    "a = 20\n",
    "b = 4\n",
    "\n",
    "c = a//b\n",
    "\n",
    "print('x//y = ', z)\n",
    "print('a//b = ', c)"
   ]
  },
  {
   "cell_type": "code",
   "execution_count": 8,
   "metadata": {
    "colab": {},
    "colab_type": "code",
    "id": "IREiQ8bgufdb"
   },
   "outputs": [
    {
     "name": "stdout",
     "output_type": "stream",
     "text": [
      "x**y =  9\n"
     ]
    }
   ],
   "source": [
    "# Exponent (**)\n",
    "x = 3\n",
    "y = 2\n",
    "\n",
    "z = x**y\n",
    "\n",
    "print('x**y = ', z)"
   ]
  },
  {
   "cell_type": "code",
   "execution_count": 9,
   "metadata": {
    "colab": {},
    "colab_type": "code",
    "id": "lrj_RNygufa3"
   },
   "outputs": [
    {
     "name": "stdout",
     "output_type": "stream",
     "text": [
      "x + y - x * y / x =  9.0\n"
     ]
    }
   ],
   "source": [
    "# Multiple arithmetic operators\n",
    "x = 9\n",
    "y = 2\n",
    "\n",
    "z = x + y - x * y / x\n",
    "\n",
    "print('x + y - x * y / x = ', z)"
   ]
  },
  {
   "cell_type": "markdown",
   "metadata": {
    "colab_type": "text",
    "id": "QbHx7XZfvOQg"
   },
   "source": [
    "**Arithmetic operator precedence in Python**\n",
    "\n",
    "- With arithmetic operator predence we understand which among the given operators should be computed first.\n",
    "\n",
    "\n",
    "<img src=\"https://raw.githubusercontent.com/WPSYG/Python-2-day-workshop/master/images/preced.png?token=AIW35UDJKQZFXBUWF5AVTLK7HQ4N2\">\n",
    "\n",
    "[Source](https://www.faceprep.in/python/arithmetic-operators-in-python/)"
   ]
  },
  {
   "cell_type": "markdown",
   "metadata": {},
   "source": [
    "### What will be the answers to the following?\n",
    "- Given x = 9, y = 2\n",
    "Find;\n",
    " 1. ``` Write a program to find the solution to x raised to the second power.```\n",
    " \n",
    " 2. ```Write a program to find the solution to x plus y mutliplied by x minus y. ```\n",
    " \n",
    " 3. ```Write a program to find the solution to x raised to the y power multiplied by y divided by 2 (The division should be a floor division).```"
   ]
  },
  {
   "cell_type": "markdown",
   "metadata": {},
   "source": [
    "Double -click _here_ for the solution to question 1\n",
    "\n",
    "<!-- Your answer is below: \n",
    "x = 9\n",
    "y = 2\n",
    "\n",
    "z = x**2\n",
    "\n",
    "print('x**2 = ', z)\n",
    "-->"
   ]
  },
  {
   "cell_type": "markdown",
   "metadata": {},
   "source": [
    "Double -click _here_ for the solution to question 2\n",
    "\n",
    "<!-- Your answer is below: \n",
    "x = 9\n",
    "y = 2\n",
    "\n",
    "z = x + y * x -  y\n",
    "\n",
    "print(' x + y * x - y = ', z)\n",
    "    \n",
    "-->"
   ]
  },
  {
   "cell_type": "markdown",
   "metadata": {},
   "source": [
    "Double -click _here_ for the solution to question 3\n",
    "\n",
    "<!-- Your answer is below: \n",
    "x = 9\n",
    "y = 2\n",
    "\n",
    "z = x**y * y // 2\n",
    "\n",
    "print('x**y * x //  2 = ', z)\n",
    "-->  "
   ]
  },
  {
   "cell_type": "markdown",
   "metadata": {
    "colab_type": "text",
    "id": "0D6jRQfsrzfr"
   },
   "source": [
    "___\n",
    "**Course Content Creators**: Sokhar Samb, Foutse, Deborah D Kanubala, Faith Benson, Salomey Osei, Yolande Ngueabou, Deo Byabazaire, Bernard Osei, Elkanah Nyabuto.\n",
    "\n",
    "\n",
    "\n",
    "\n",
    "**Course Reviewer:** [Salomon Kabongo](https://twitter.com/SalomonKabongo1), [Sewade Ogun](https://twitter.com/SewadeOgun)"
   ]
  },
  {
   "cell_type": "code",
   "execution_count": null,
   "metadata": {},
   "outputs": [],
   "source": []
  }
 ],
 "metadata": {
  "colab": {
   "name": "Part 01 : Python Arithmetic Operations.ipynb",
   "provenance": []
  },
  "kernelspec": {
   "display_name": "Python 3",
   "language": "python",
   "name": "python3"
  },
  "language_info": {
   "codemirror_mode": {
    "name": "ipython",
    "version": 3
   },
   "file_extension": ".py",
   "mimetype": "text/x-python",
   "name": "python",
   "nbconvert_exporter": "python",
   "pygments_lexer": "ipython3",
   "version": "3.7.3"
  }
 },
 "nbformat": 4,
 "nbformat_minor": 4
}
